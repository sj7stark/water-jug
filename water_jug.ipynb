{
 "cells": [
  {
   "cell_type": "markdown",
   "metadata": {},
   "source": [
    "# Water Jug Problem"
   ]
  },
  {
   "cell_type": "markdown",
   "metadata": {},
   "source": [
    "This notebook shows how to set up and solve a Water Jug Problem as an Integer Linear Program (ILP)"
   ]
  },
  {
   "cell_type": "markdown",
   "metadata": {},
   "source": [
    "## What is the Water Jug Problem?"
   ]
  },
  {
   "cell_type": "markdown",
   "metadata": {},
   "source": [
    "Suppose you have the following:\n",
    "* An empty 5 gallon jug (Jug A)\n",
    "* An empty 3 gallon jug (Jug B)\n",
    "* An \"infinite\" water source like a spring\n",
    "\n",
    "Pour water into the jugs such that you end up with:\n",
    "* The 5 gallon jug containing 4 gallons\n",
    "* The 3 gallon jug containing 3 gallons\n",
    "\n",
    "You're allowed to make the following moves:\n",
    "* Dump out all of the water Jug A\n",
    "* Dump out all of the water Jug B\n",
    "* Completely fill up Jug A\n",
    "* Completely fill up Jug B\n",
    "* Pout water from one jug into the other\n",
    "\n",
    "Which decisions (pours/dumps/fills) should you make such that the total number of decisions is minimized?"
   ]
  },
  {
   "cell_type": "markdown",
   "metadata": {},
   "source": [
    "# Imports"
   ]
  },
  {
   "cell_type": "code",
   "execution_count": 1,
   "metadata": {},
   "outputs": [],
   "source": [
    "from docplex.mp.model import Model"
   ]
  },
  {
   "cell_type": "markdown",
   "metadata": {},
   "source": [
    "# Sets"
   ]
  },
  {
   "cell_type": "code",
   "execution_count": 2,
   "metadata": {},
   "outputs": [],
   "source": [
    "# set of time periods\n",
    "T = list(range(11))\n",
    "\n",
    "# set of jugs\n",
    "J = ['A','B']\n",
    "\n",
    "# capacity of jugs\n",
    "C = {\n",
    "    'A':5,\n",
    "    'B':3\n",
    "}\n",
    "\n",
    "# set of actions\n",
    "decisions = {\n",
    "    0: 'Dump A',\n",
    "    1: 'Dump B',\n",
    "    2: 'Fill A',\n",
    "    3: 'Fill B',\n",
    "    4: 'Pour A to B',\n",
    "    5: 'Pour B to A'\n",
    "}\n",
    "\n",
    "D = list(range(6))\n"
   ]
  },
  {
   "cell_type": "markdown",
   "metadata": {},
   "source": [
    "# Decision Variables"
   ]
  },
  {
   "cell_type": "code",
   "execution_count": 3,
   "metadata": {},
   "outputs": [],
   "source": [
    "# create a model object\n",
    "water_jug = Model(name='Water-Jug-Problem')"
   ]
  },
  {
   "cell_type": "code",
   "execution_count": 4,
   "metadata": {},
   "outputs": [],
   "source": [
    "# variables that equal 1 if we make a move and 0 otherwise\n",
    "z = water_jug.binary_var_dict(keys = [(d, t) for d in D for t in T[1:]], name=\"z\")"
   ]
  },
  {
   "cell_type": "code",
   "execution_count": 5,
   "metadata": {},
   "outputs": [],
   "source": [
    "def get_ub(var_name):\n",
    "    if var_name[0] == 'A':\n",
    "        ub = 5\n",
    "    else:\n",
    "        ub = 3\n",
    "    return ub"
   ]
  },
  {
   "cell_type": "code",
   "execution_count": 6,
   "metadata": {},
   "outputs": [],
   "source": [
    "# volume of water in jugs\n",
    "v = water_jug.integer_var_dict(keys = [(j, t) for j in J for t in T], name=\"v\",lb=0, ub=get_ub)"
   ]
  },
  {
   "cell_type": "markdown",
   "metadata": {},
   "source": [
    "# Objective Function"
   ]
  },
  {
   "cell_type": "code",
   "execution_count": 7,
   "metadata": {},
   "outputs": [],
   "source": [
    "# add the objective function of minimizing total distance\n",
    "num_moves = water_jug.sum(z[(d,t)] for d in D for t in T[1:])\n",
    "water_jug.minimize(num_moves)"
   ]
  },
  {
   "cell_type": "markdown",
   "metadata": {},
   "source": [
    "# Constraints"
   ]
  },
  {
   "cell_type": "code",
   "execution_count": 8,
   "metadata": {},
   "outputs": [
    {
     "data": {
      "text/plain": [
       "[docplex.mp.LinearConstraint[](v_A_0,EQ,0),\n",
       " docplex.mp.LinearConstraint[](v_B_0,EQ,0)]"
      ]
     },
     "execution_count": 8,
     "metadata": {},
     "output_type": "execute_result"
    }
   ],
   "source": [
    "# initial volumes are zero for both jugs\n",
    "water_jug.add_constraints(v[j,0] == 0 for j in J)"
   ]
  },
  {
   "cell_type": "code",
   "execution_count": 9,
   "metadata": {},
   "outputs": [
    {
     "data": {
      "text/plain": [
       "[docplex.mp.LinearConstraint[](z_0_1+z_1_1+z_2_1+z_3_1+z_4_1+z_5_1,LE,1),\n",
       " docplex.mp.LinearConstraint[](z_0_2+z_1_2+z_2_2+z_3_2+z_4_2+z_5_2,LE,1),\n",
       " docplex.mp.LinearConstraint[](z_0_3+z_1_3+z_2_3+z_3_3+z_4_3+z_5_3,LE,1),\n",
       " docplex.mp.LinearConstraint[](z_0_4+z_1_4+z_2_4+z_3_4+z_4_4+z_5_4,LE,1),\n",
       " docplex.mp.LinearConstraint[](z_0_5+z_1_5+z_2_5+z_3_5+z_4_5+z_5_5,LE,1),\n",
       " docplex.mp.LinearConstraint[](z_0_6+z_1_6+z_2_6+z_3_6+z_4_6+z_5_6,LE,1),\n",
       " docplex.mp.LinearConstraint[](z_0_7+z_1_7+z_2_7+z_3_7+z_4_7+z_5_7,LE,1),\n",
       " docplex.mp.LinearConstraint[](z_0_8+z_1_8+z_2_8+z_3_8+z_4_8+z_5_8,LE,1),\n",
       " docplex.mp.LinearConstraint[](z_0_9+z_1_9+z_2_9+z_3_9+z_4_9+z_5_9,LE,1),\n",
       " docplex.mp.LinearConstraint[](z_0_10+z_1_10+z_2_10+z_3_10+z_4_10+z_5_10,LE,1)]"
      ]
     },
     "execution_count": 9,
     "metadata": {},
     "output_type": "execute_result"
    }
   ],
   "source": [
    "# at most a single decision can be made at each time period\n",
    "water_jug.add_constraints(water_jug.sum(z[(d,t)] for d in D) <= 1 for t in T[1:])"
   ]
  },
  {
   "cell_type": "code",
   "execution_count": 10,
   "metadata": {},
   "outputs": [],
   "source": [
    "# add dumping/filling constraints\n",
    "for t in T[1:]:\n",
    "\n",
    "    # dump A\n",
    "    water_jug.add_indicator(z[(0,t)], v[('A',t)]==0)\n",
    "\n",
    "    # dump B\n",
    "    water_jug.add_indicator(z[(1,t)], v[('B',t)]==0)\n",
    "\n",
    "    # Fill A\n",
    "    water_jug.add_indicator(z[(2,t)], v[('A',t)]==5)\n",
    "\n",
    "    # Fill B\n",
    "    water_jug.add_indicator(z[(3,t)], v[('B',t)]==3)"
   ]
  },
  {
   "cell_type": "code",
   "execution_count": 11,
   "metadata": {},
   "outputs": [],
   "source": [
    "# a stays same if no movement\n",
    "for t in T[1:]:\n",
    "    water_jug.add_if_then(z[(0,t)] + z[(2,t)] + z[(4,t)] + z[(5,t)] == 0, v[('A',t)] == v[('A',t-1)])\n"
   ]
  },
  {
   "cell_type": "code",
   "execution_count": 12,
   "metadata": {},
   "outputs": [],
   "source": [
    "# b stays same if no movement\n",
    "for t in T[1:]:\n",
    "    water_jug.add_if_then(z[(1,t)] + z[(3,t)] + z[(4,t)] + z[(5,t)] == 0, v[('B',t)] == v[('B',t-1)])"
   ]
  },
  {
   "cell_type": "code",
   "execution_count": 13,
   "metadata": {},
   "outputs": [],
   "source": [
    "# if you pour A into B\n",
    "for t in T[1:]:\n",
    "    \n",
    "    # for A\n",
    "    water_jug.add_indicator(z[(4,t)], v[('A',t)]==water_jug.max(0, v[('A',t-1)]-3+v[('B',t-1)]  ))\n",
    "\n",
    "    # for B\n",
    "    water_jug.add_indicator(z[(4,t)], v[('B',t)]==water_jug.min(3, v[('A',t-1)]+ v[('B',t-1)]  ))"
   ]
  },
  {
   "cell_type": "code",
   "execution_count": 14,
   "metadata": {},
   "outputs": [],
   "source": [
    "# if you pour B into A\n",
    "for t in T[1:]:\n",
    "    \n",
    "    # for A\n",
    "    water_jug.add_indicator(z[(5,t)], v[('A',t)]==water_jug.min(5, v[('A',t-1)]+ v[('B',t-1)]  ))\n",
    "\n",
    "    # for B\n",
    "    water_jug.add_indicator(z[(5,t)], v[('B',t)]==water_jug.max(0, v[('A',t-1)]+ v[('B',t-1)] -5 ))"
   ]
  },
  {
   "cell_type": "code",
   "execution_count": 15,
   "metadata": {},
   "outputs": [
    {
     "data": {
      "text/plain": [
       "[docplex.mp.LinearConstraint[](z_0_2+z_1_2+z_2_2+z_3_2+z_4_2+z_5_2,LE,z_0_1+z_1_1+z_2_1+z_3_1+z_4_1+z_5_1),\n",
       " docplex.mp.LinearConstraint[](z_0_3+z_1_3+z_2_3+z_3_3+z_4_3+z_5_3,LE,z_0_2+z_1_2+z_2_2+z_3_2+z_4_2+z_5_2),\n",
       " docplex.mp.LinearConstraint[](z_0_4+z_1_4+z_2_4+z_3_4+z_4_4+z_5_4,LE,z_0_3+z_1_3+z_2_3+z_3_3+z_4_3+z_5_3),\n",
       " docplex.mp.LinearConstraint[](z_0_5+z_1_5+z_2_5+z_3_5+z_4_5+z_5_5,LE,z_0_4+z_1_4+z_2_4+z_3_4+z_4_4+z_5_4),\n",
       " docplex.mp.LinearConstraint[](z_0_6+z_1_6+z_2_6+z_3_6+z_4_6+z_5_6,LE,z_0_5+z_1_5+z_2_5+z_3_5+z_4_5+z_5_5),\n",
       " docplex.mp.LinearConstraint[](z_0_7+z_1_7+z_2_7+z_3_7+z_4_7+z_5_7,LE,z_0_6+z_1_6+z_2_6+z_3_6+z_4_6+z_5_6),\n",
       " docplex.mp.LinearConstraint[](z_0_8+z_1_8+z_2_8+z_3_8+z_4_8+z_5_8,LE,z_0_7+z_1_7+z_2_7+z_3_7+z_4_7+z_5_7),\n",
       " docplex.mp.LinearConstraint[](z_0_9+z_1_9+z_2_9+z_3_9+z_4_9+z_5_9,LE,z_0_8+z_1_8+z_2_8+z_3_8+z_4_8+z_5_8),\n",
       " docplex.mp.LinearConstraint[](z_0_10+z_1_10+z_2_10+z_3_10+z_4_10+z_5_10,LE,z_0_9+z_1_9+z_2_9+z_3_9+z_4_9+z_5_9)]"
      ]
     },
     "execution_count": 15,
     "metadata": {},
     "output_type": "execute_result"
    }
   ],
   "source": [
    "# if you don't make a move on turn t, then no move on turn t-1\n",
    "water_jug.add_constraints(water_jug.sum(z[(d,t+1)] for d in D) <= water_jug.sum(z[(d,t)] for d in D) for t in T[1:-1])"
   ]
  },
  {
   "cell_type": "code",
   "execution_count": 16,
   "metadata": {},
   "outputs": [
    {
     "data": {
      "text/plain": [
       "docplex.mp.LinearConstraint[](v_B_10,EQ,3)"
      ]
     },
     "execution_count": 16,
     "metadata": {},
     "output_type": "execute_result"
    }
   ],
   "source": [
    "# end results are 4 and 3\n",
    "water_jug.add_constraint(v['A',10] == 4)\n",
    "water_jug.add_constraint(v['B',10] == 3)"
   ]
  },
  {
   "cell_type": "markdown",
   "metadata": {},
   "source": [
    "# Solve the Problem"
   ]
  },
  {
   "cell_type": "code",
   "execution_count": 17,
   "metadata": {},
   "outputs": [
    {
     "data": {
      "text/plain": [
       "docplex.mp.solution.SolveSolution(obj=6,values={z_1_3:1,z_2_1:1,z_2_5:1,.."
      ]
     },
     "execution_count": 17,
     "metadata": {},
     "output_type": "execute_result"
    }
   ],
   "source": [
    "water_jug.solve()"
   ]
  },
  {
   "cell_type": "code",
   "execution_count": 21,
   "metadata": {},
   "outputs": [
    {
     "data": {
      "text/html": [
       "<div>\n",
       "<style scoped>\n",
       "    .dataframe tbody tr th:only-of-type {\n",
       "        vertical-align: middle;\n",
       "    }\n",
       "\n",
       "    .dataframe tbody tr th {\n",
       "        vertical-align: top;\n",
       "    }\n",
       "\n",
       "    .dataframe thead th {\n",
       "        text-align: right;\n",
       "    }\n",
       "</style>\n",
       "<table border=\"1\" class=\"dataframe\">\n",
       "  <thead>\n",
       "    <tr style=\"text-align: right;\">\n",
       "      <th></th>\n",
       "      <th>key_1</th>\n",
       "      <th>key_2</th>\n",
       "      <th>value</th>\n",
       "    </tr>\n",
       "  </thead>\n",
       "  <tbody>\n",
       "    <tr>\n",
       "      <th>20</th>\n",
       "      <td>2</td>\n",
       "      <td>1</td>\n",
       "      <td>1.0</td>\n",
       "    </tr>\n",
       "    <tr>\n",
       "      <th>41</th>\n",
       "      <td>4</td>\n",
       "      <td>2</td>\n",
       "      <td>1.0</td>\n",
       "    </tr>\n",
       "    <tr>\n",
       "      <th>12</th>\n",
       "      <td>1</td>\n",
       "      <td>3</td>\n",
       "      <td>1.0</td>\n",
       "    </tr>\n",
       "    <tr>\n",
       "      <th>43</th>\n",
       "      <td>4</td>\n",
       "      <td>4</td>\n",
       "      <td>1.0</td>\n",
       "    </tr>\n",
       "    <tr>\n",
       "      <th>24</th>\n",
       "      <td>2</td>\n",
       "      <td>5</td>\n",
       "      <td>1.0</td>\n",
       "    </tr>\n",
       "    <tr>\n",
       "      <th>45</th>\n",
       "      <td>4</td>\n",
       "      <td>6</td>\n",
       "      <td>1.0</td>\n",
       "    </tr>\n",
       "  </tbody>\n",
       "</table>\n",
       "</div>"
      ],
      "text/plain": [
       "    key_1  key_2  value\n",
       "20      2      1    1.0\n",
       "41      4      2    1.0\n",
       "12      1      3    1.0\n",
       "43      4      4    1.0\n",
       "24      2      5    1.0\n",
       "45      4      6    1.0"
      ]
     },
     "execution_count": 21,
     "metadata": {},
     "output_type": "execute_result"
    }
   ],
   "source": [
    "# set of actions\n",
    "decisions = {\n",
    "    0: 'Dump A',\n",
    "    1: 'Dump B',\n",
    "    2: 'Fill A',\n",
    "    3: 'Fill B',\n",
    "    4: 'Pour A to B',\n",
    "    5: 'Pour B to A'\n",
    "}\n",
    "\n",
    "z_values = water_jug.solution.get_value_df(z)\n",
    "z_values.loc[z_values.value == 1].sort_values(by=['key_2'])"
   ]
  },
  {
   "cell_type": "code",
   "execution_count": 20,
   "metadata": {},
   "outputs": [
    {
     "data": {
      "text/html": [
       "<div>\n",
       "<style scoped>\n",
       "    .dataframe tbody tr th:only-of-type {\n",
       "        vertical-align: middle;\n",
       "    }\n",
       "\n",
       "    .dataframe tbody tr th {\n",
       "        vertical-align: top;\n",
       "    }\n",
       "\n",
       "    .dataframe thead th {\n",
       "        text-align: right;\n",
       "    }\n",
       "</style>\n",
       "<table border=\"1\" class=\"dataframe\">\n",
       "  <thead>\n",
       "    <tr style=\"text-align: right;\">\n",
       "      <th></th>\n",
       "      <th>key_1</th>\n",
       "      <th>key_2</th>\n",
       "      <th>value</th>\n",
       "    </tr>\n",
       "  </thead>\n",
       "  <tbody>\n",
       "    <tr>\n",
       "      <th>0</th>\n",
       "      <td>A</td>\n",
       "      <td>0</td>\n",
       "      <td>0.0</td>\n",
       "    </tr>\n",
       "    <tr>\n",
       "      <th>1</th>\n",
       "      <td>A</td>\n",
       "      <td>1</td>\n",
       "      <td>5.0</td>\n",
       "    </tr>\n",
       "    <tr>\n",
       "      <th>2</th>\n",
       "      <td>A</td>\n",
       "      <td>2</td>\n",
       "      <td>2.0</td>\n",
       "    </tr>\n",
       "    <tr>\n",
       "      <th>3</th>\n",
       "      <td>A</td>\n",
       "      <td>3</td>\n",
       "      <td>2.0</td>\n",
       "    </tr>\n",
       "    <tr>\n",
       "      <th>4</th>\n",
       "      <td>A</td>\n",
       "      <td>4</td>\n",
       "      <td>0.0</td>\n",
       "    </tr>\n",
       "    <tr>\n",
       "      <th>5</th>\n",
       "      <td>A</td>\n",
       "      <td>5</td>\n",
       "      <td>5.0</td>\n",
       "    </tr>\n",
       "    <tr>\n",
       "      <th>6</th>\n",
       "      <td>A</td>\n",
       "      <td>6</td>\n",
       "      <td>4.0</td>\n",
       "    </tr>\n",
       "    <tr>\n",
       "      <th>7</th>\n",
       "      <td>A</td>\n",
       "      <td>7</td>\n",
       "      <td>4.0</td>\n",
       "    </tr>\n",
       "    <tr>\n",
       "      <th>8</th>\n",
       "      <td>A</td>\n",
       "      <td>8</td>\n",
       "      <td>4.0</td>\n",
       "    </tr>\n",
       "    <tr>\n",
       "      <th>9</th>\n",
       "      <td>A</td>\n",
       "      <td>9</td>\n",
       "      <td>4.0</td>\n",
       "    </tr>\n",
       "    <tr>\n",
       "      <th>10</th>\n",
       "      <td>A</td>\n",
       "      <td>10</td>\n",
       "      <td>4.0</td>\n",
       "    </tr>\n",
       "    <tr>\n",
       "      <th>11</th>\n",
       "      <td>B</td>\n",
       "      <td>0</td>\n",
       "      <td>0.0</td>\n",
       "    </tr>\n",
       "    <tr>\n",
       "      <th>12</th>\n",
       "      <td>B</td>\n",
       "      <td>1</td>\n",
       "      <td>0.0</td>\n",
       "    </tr>\n",
       "    <tr>\n",
       "      <th>13</th>\n",
       "      <td>B</td>\n",
       "      <td>2</td>\n",
       "      <td>3.0</td>\n",
       "    </tr>\n",
       "    <tr>\n",
       "      <th>14</th>\n",
       "      <td>B</td>\n",
       "      <td>3</td>\n",
       "      <td>0.0</td>\n",
       "    </tr>\n",
       "    <tr>\n",
       "      <th>15</th>\n",
       "      <td>B</td>\n",
       "      <td>4</td>\n",
       "      <td>2.0</td>\n",
       "    </tr>\n",
       "    <tr>\n",
       "      <th>16</th>\n",
       "      <td>B</td>\n",
       "      <td>5</td>\n",
       "      <td>2.0</td>\n",
       "    </tr>\n",
       "    <tr>\n",
       "      <th>17</th>\n",
       "      <td>B</td>\n",
       "      <td>6</td>\n",
       "      <td>3.0</td>\n",
       "    </tr>\n",
       "    <tr>\n",
       "      <th>18</th>\n",
       "      <td>B</td>\n",
       "      <td>7</td>\n",
       "      <td>3.0</td>\n",
       "    </tr>\n",
       "    <tr>\n",
       "      <th>19</th>\n",
       "      <td>B</td>\n",
       "      <td>8</td>\n",
       "      <td>3.0</td>\n",
       "    </tr>\n",
       "    <tr>\n",
       "      <th>20</th>\n",
       "      <td>B</td>\n",
       "      <td>9</td>\n",
       "      <td>3.0</td>\n",
       "    </tr>\n",
       "    <tr>\n",
       "      <th>21</th>\n",
       "      <td>B</td>\n",
       "      <td>10</td>\n",
       "      <td>3.0</td>\n",
       "    </tr>\n",
       "  </tbody>\n",
       "</table>\n",
       "</div>"
      ],
      "text/plain": [
       "   key_1  key_2  value\n",
       "0      A      0    0.0\n",
       "1      A      1    5.0\n",
       "2      A      2    2.0\n",
       "3      A      3    2.0\n",
       "4      A      4    0.0\n",
       "5      A      5    5.0\n",
       "6      A      6    4.0\n",
       "7      A      7    4.0\n",
       "8      A      8    4.0\n",
       "9      A      9    4.0\n",
       "10     A     10    4.0\n",
       "11     B      0    0.0\n",
       "12     B      1    0.0\n",
       "13     B      2    3.0\n",
       "14     B      3    0.0\n",
       "15     B      4    2.0\n",
       "16     B      5    2.0\n",
       "17     B      6    3.0\n",
       "18     B      7    3.0\n",
       "19     B      8    3.0\n",
       "20     B      9    3.0\n",
       "21     B     10    3.0"
      ]
     },
     "execution_count": 20,
     "metadata": {},
     "output_type": "execute_result"
    }
   ],
   "source": [
    "water_jug.solution.get_value_df(v)"
   ]
  },
  {
   "cell_type": "code",
   "execution_count": null,
   "metadata": {},
   "outputs": [],
   "source": []
  },
  {
   "cell_type": "code",
   "execution_count": null,
   "metadata": {},
   "outputs": [],
   "source": []
  },
  {
   "cell_type": "code",
   "execution_count": null,
   "metadata": {},
   "outputs": [],
   "source": []
  },
  {
   "cell_type": "code",
   "execution_count": null,
   "metadata": {},
   "outputs": [],
   "source": []
  },
  {
   "cell_type": "code",
   "execution_count": null,
   "metadata": {},
   "outputs": [],
   "source": []
  },
  {
   "cell_type": "code",
   "execution_count": null,
   "metadata": {},
   "outputs": [],
   "source": []
  },
  {
   "cell_type": "code",
   "execution_count": null,
   "metadata": {},
   "outputs": [],
   "source": []
  },
  {
   "cell_type": "code",
   "execution_count": null,
   "metadata": {},
   "outputs": [],
   "source": []
  },
  {
   "cell_type": "code",
   "execution_count": null,
   "metadata": {},
   "outputs": [],
   "source": []
  },
  {
   "cell_type": "code",
   "execution_count": null,
   "metadata": {},
   "outputs": [],
   "source": []
  },
  {
   "cell_type": "code",
   "execution_count": null,
   "metadata": {},
   "outputs": [],
   "source": []
  },
  {
   "cell_type": "code",
   "execution_count": null,
   "metadata": {},
   "outputs": [],
   "source": []
  },
  {
   "cell_type": "code",
   "execution_count": null,
   "metadata": {},
   "outputs": [],
   "source": []
  },
  {
   "cell_type": "markdown",
   "metadata": {},
   "source": [
    "### 1. Solve an Assignment Problem"
   ]
  },
  {
   "cell_type": "markdown",
   "metadata": {},
   "source": [
    "The following model is a linear program of the Assignment Problem"
   ]
  },
  {
   "cell_type": "markdown",
   "metadata": {},
   "source": [
    "* $c_{ij}$: The cost of traveling from node $i$ to node $j$\n",
    "* $x_{ij}$: A decision variable that equals $1$ if we travel from node $i$ directly to $j$ and $0$ otherwise\n",
    "\n",
    "$min \\quad \\sum_{(i,j) \\in I X J} c_{ij}x_{ij}$\n",
    "\n",
    "$s.t.$\n",
    "\n",
    "$\\sum_{j \\in J}x_{ij}=1, \\quad \\forall i \\in I$\n",
    "\n",
    "$\\sum_{i \\in I}x_{ij}=1, \\quad \\forall j \\in J$\n",
    "\n",
    "$0 \\le x_{ij} \\le 1, \\quad \\forall i,j \\in I,J$\n"
   ]
  },
  {
   "cell_type": "markdown",
   "metadata": {},
   "source": [
    "Look at your solution. If the solution consists of one cycle, then you are done. For instance, suppose we have a problem with 4 customers and obtain the following solution:\n",
    "\n",
    "$x_{12} = 1$, $x_{23} = 1$, $x_{34} = 1$, $x_{41} = 1$\n",
    "\n",
    "This solution can be represented as a single solution, so we have found the optimal solution"
   ]
  },
  {
   "cell_type": "markdown",
   "metadata": {},
   "source": [
    "If we end up with a solution that looks like:\n",
    "\n",
    "$x_{12} = 1$, $x_{21} = 1$, $x_{34} = 1$, $x_{43} = 1$\n",
    "\n",
    "Then we need to go to step 2"
   ]
  },
  {
   "cell_type": "markdown",
   "metadata": {},
   "source": [
    "### 2. Add subtour elmination constraints and resolve"
   ]
  },
  {
   "cell_type": "markdown",
   "metadata": {},
   "source": [
    "The solution above shows that we have 2 subtours. In order to find a solution to the TSP, we need to add subtour elimination constraints. For this particular example, we would add the following constraints:\n",
    "\n",
    "$x_{12} + x_{21} \\le 1 \\newline$ \n",
    "$x_{34} + x_{43} \\le 1$\n",
    "\n",
    "Additonally, we should explicitly set the decision variables to binary\n"
   ]
  },
  {
   "cell_type": "markdown",
   "metadata": {},
   "source": [
    "## Example Problem"
   ]
  },
  {
   "cell_type": "markdown",
   "metadata": {},
   "source": [
    "Let's solve the example problem in the Google OR-Tools Tutorial: https://developers.google.com/optimization/routing/tsp"
   ]
  },
  {
   "cell_type": "markdown",
   "metadata": {},
   "source": [
    "We will setup and solve this problem using `docplex`. `docplex` is a library that allows you to use CPLEX (a commercial mathematical programming solver from IBM) in Python. This package requires an installation of CPLEX. You can download a free, limited edition of CPLEX from IBM."
   ]
  },
  {
   "cell_type": "markdown",
   "metadata": {},
   "source": [
    "### Imports"
   ]
  },
  {
   "cell_type": "code",
   "execution_count": null,
   "metadata": {},
   "outputs": [],
   "source": [
    "from docplex.mp.model import Model"
   ]
  },
  {
   "cell_type": "markdown",
   "metadata": {},
   "source": [
    "### Input Data"
   ]
  },
  {
   "cell_type": "code",
   "execution_count": null,
   "metadata": {},
   "outputs": [],
   "source": [
    "# list of cities\n",
    "cities = ['NY',\n",
    "'LA',\n",
    "'CHI',\n",
    "'MIN',\n",
    "'DEN',\n",
    "'DAL',\n",
    "'SEA',\n",
    "'BOS',\n",
    "'SA',\n",
    "'STL',\n",
    "'HOU',\n",
    "'PHX',\n",
    "'SLC']\n",
    "\n"
   ]
  },
  {
   "cell_type": "code",
   "execution_count": null,
   "metadata": {},
   "outputs": [],
   "source": [
    "# list of arcs connecting cities\n",
    "arcs = [(i,j) for i in cities for j in cities if i != j]"
   ]
  },
  {
   "cell_type": "code",
   "execution_count": null,
   "metadata": {},
   "outputs": [],
   "source": [
    "# copy distance data from Google\n",
    "distance_matrix= [\n",
    "        [0, 2451, 713, 1018, 1631, 1374, 2408, 213, 2571, 875, 1420, 2145, 1972],\n",
    "        [2451, 0, 1745, 1524, 831, 1240, 959, 2596, 403, 1589, 1374, 357, 579],\n",
    "        [713, 1745, 0, 355, 920, 803, 1737, 851, 1858, 262, 940, 1453, 1260],\n",
    "        [1018, 1524, 355, 0, 700, 862, 1395, 1123, 1584, 466, 1056, 1280, 987],\n",
    "        [1631, 831, 920, 700, 0, 663, 1021, 1769, 949, 796, 879, 586, 371],\n",
    "        [1374, 1240, 803, 862, 663, 0, 1681, 1551, 1765, 547, 225, 887, 999],\n",
    "        [2408, 959, 1737, 1395, 1021, 1681, 0, 2493, 678, 1724, 1891, 1114, 701],\n",
    "        [213, 2596, 851, 1123, 1769, 1551, 2493, 0, 2699, 1038, 1605, 2300, 2099],\n",
    "        [2571, 403, 1858, 1584, 949, 1765, 678, 2699, 0, 1744, 1645, 653, 600],\n",
    "        [875, 1589, 262, 466, 796, 547, 1724, 1038, 1744, 0, 679, 1272, 1162],\n",
    "        [1420, 1374, 940, 1056, 879, 225, 1891, 1605, 1645, 679, 0, 1017, 1200],\n",
    "        [2145, 357, 1453, 1280, 586, 887, 1114, 2300, 653, 1272, 1017, 0, 504],\n",
    "        [1972, 579, 1260, 987, 371, 999, 701, 2099, 600, 1162, 1200, 504, 0],\n",
    "    ]\n",
    "\n",
    "# convert to a single list and remove 0s\n",
    "distances = [ele for sub_list in distance_matrix for ele in sub_list if ele != 0]\n",
    "\n",
    "# create distance matrix dictionary for model\n",
    "# using c for model notation\n",
    "c = {(arcs[i]): distances[i] for i in range(len(arcs))}"
   ]
  },
  {
   "cell_type": "markdown",
   "metadata": {},
   "source": [
    "### Optimization Model"
   ]
  },
  {
   "cell_type": "code",
   "execution_count": null,
   "metadata": {},
   "outputs": [],
   "source": [
    "# create a model object\n",
    "tsp = Model(name='TSP')"
   ]
  },
  {
   "cell_type": "code",
   "execution_count": null,
   "metadata": {},
   "outputs": [],
   "source": [
    "# create the x_ij binary decision variables\n",
    "x = tsp.binary_var_dict(keys = arcs, name=\"x\")"
   ]
  },
  {
   "cell_type": "code",
   "execution_count": null,
   "metadata": {},
   "outputs": [],
   "source": [
    "# add the objective function of minimizing total distance\n",
    "total_distance = tsp.sum(c[(i,j)] * x[(i,j)] for (i,j) in arcs)\n",
    "tsp.minimize(total_distance)"
   ]
  },
  {
   "cell_type": "code",
   "execution_count": null,
   "metadata": {},
   "outputs": [],
   "source": [
    "# add the constraints\n",
    "\n",
    "# leave each city exactly once\n",
    "tsp.add_constraints( ((tsp.sum(x[(i,j)] for j in cities if j != i) == 1), \n",
    "f'from_{i}') for i in cities )\n",
    "\n",
    "# enter each city exactly once\n",
    "tsp.add_constraints( ((tsp.sum(x[(i,j)] for i in cities if i != j) == 1), \n",
    "f'to_{j}') for j in cities )"
   ]
  },
  {
   "cell_type": "code",
   "execution_count": null,
   "metadata": {},
   "outputs": [],
   "source": [
    "# solve the problem\n",
    "tsp.print_information()"
   ]
  },
  {
   "cell_type": "code",
   "execution_count": null,
   "metadata": {},
   "outputs": [],
   "source": []
  },
  {
   "cell_type": "code",
   "execution_count": null,
   "metadata": {},
   "outputs": [],
   "source": [
    "tsp.solve()"
   ]
  },
  {
   "cell_type": "code",
   "execution_count": null,
   "metadata": {},
   "outputs": [],
   "source": [
    "tsp.solution.objective_value"
   ]
  },
  {
   "cell_type": "code",
   "execution_count": null,
   "metadata": {},
   "outputs": [],
   "source": [
    "# non-zero variables\n",
    "sol_vars = [x[x_ij] for x_ij in x if x[x_ij].solution_value == 1]"
   ]
  },
  {
   "cell_type": "code",
   "execution_count": null,
   "metadata": {},
   "outputs": [],
   "source": [
    "# loop through until we have only 1 tour\n",
    "while True:\n",
    "\n",
    "    # constraints to add\n",
    "    # a list of lists\n",
    "    tours = []\n",
    "\n",
    "    # current subtour\n",
    "    subtour = []\n",
    "\n",
    "    # create a dictionary linking each city to its destination\n",
    "    travel = {x.name.split('_')[1]: (x,x.name.split('_')[2]) for x in sol_vars}\n",
    "\n",
    "    # start with NY\n",
    "    current_city = 'NY'\n",
    "\n",
    "    # list of variables left to check\n",
    "    remain_cities = cities.copy()\n",
    "\n",
    "    for num in range(len(sol_vars)):\n",
    "\n",
    "        # add from current_city variable to the subtour\n",
    "        subtour.append(travel[current_city][0])\n",
    "\n",
    "        # eliminate the variable from the remaining cities list\n",
    "        remain_cities.remove(current_city)\n",
    "\n",
    "        # check if we have a closed subtour\n",
    "        if subtour[0].name.split('_')[1] == subtour[-1].name.split('_')[2]:\n",
    "            \n",
    "            # add the subtour to our list of tours\n",
    "            tours.append(subtour)\n",
    "\n",
    "            # set the subtour to an empty list\n",
    "            subtour = []\n",
    "\n",
    "            # set a new current city if we are not at the end of the loop\n",
    "            if remain_cities != []:\n",
    "                current_city = remain_cities[0] \n",
    "\n",
    "        # if the subtour isn't closed, the current city is the str at the end of the var name\n",
    "        else:\n",
    "            current_city = travel[current_city][1]\n",
    "\n",
    "    # break if we have only 1 tour\n",
    "    if len(tours) == 1:\n",
    "        break\n",
    "\n",
    "    else:\n",
    "\n",
    "        # add the constraints to the problem\n",
    "        tsp.add_constraints(  (tsp.sum(subtour) <= (len(subtour) - 1),'subtour_') for subtour in tours)\n",
    "        \n",
    "        # resolve the problem\n",
    "        tsp.solve()\n",
    "\n",
    "        # print the objective function value\n",
    "        print(f\"Current Obj: {tsp.solution.objective_value}\")\n",
    "\n",
    "        # get list of variables that equal 1\n",
    "        sol_vars = [x[x_ij] for x_ij in x if x[x_ij].solution_value == 1] \n",
    "\n",
    "\n",
    "# finished\n",
    "# print the objective function value\n",
    "print(f\"Final Obj: {tsp.solution.objective_value}\")\n",
    "\n",
    "    "
   ]
  },
  {
   "cell_type": "code",
   "execution_count": null,
   "metadata": {},
   "outputs": [],
   "source": []
  },
  {
   "cell_type": "code",
   "execution_count": null,
   "metadata": {},
   "outputs": [],
   "source": []
  },
  {
   "cell_type": "code",
   "execution_count": null,
   "metadata": {},
   "outputs": [],
   "source": []
  },
  {
   "cell_type": "code",
   "execution_count": null,
   "metadata": {},
   "outputs": [],
   "source": []
  },
  {
   "cell_type": "code",
   "execution_count": null,
   "metadata": {},
   "outputs": [],
   "source": []
  },
  {
   "cell_type": "code",
   "execution_count": null,
   "metadata": {},
   "outputs": [],
   "source": []
  },
  {
   "cell_type": "code",
   "execution_count": null,
   "metadata": {},
   "outputs": [],
   "source": [
    "\n",
    "\n",
    "my_list = [1,2,3,4,5,6,7,8,9,10]\n",
    "\n",
    "a = my_list[0]\n",
    "\n",
    "my_list.remove(1)\n",
    "\n",
    "print(f\"a: {a}\")\n",
    "print(f\"my_list: {my_list}\")\n"
   ]
  },
  {
   "cell_type": "code",
   "execution_count": null,
   "metadata": {},
   "outputs": [],
   "source": [
    "baby_list = []"
   ]
  },
  {
   "cell_type": "code",
   "execution_count": null,
   "metadata": {},
   "outputs": [],
   "source": [
    "baby_list_111 = baby_list[0]"
   ]
  },
  {
   "cell_type": "code",
   "execution_count": null,
   "metadata": {},
   "outputs": [],
   "source": [
    "a = [1]\n",
    "a.append(9)\n",
    "a"
   ]
  },
  {
   "cell_type": "code",
   "execution_count": null,
   "metadata": {},
   "outputs": [],
   "source": [
    "a[-1]"
   ]
  },
  {
   "cell_type": "code",
   "execution_count": null,
   "metadata": {},
   "outputs": [],
   "source": [
    "travel['NY'][0]"
   ]
  },
  {
   "cell_type": "code",
   "execution_count": null,
   "metadata": {},
   "outputs": [],
   "source": [
    "%%timeit\n",
    "\n",
    "a = [1]\n",
    "\n",
    "a.extend([2,3])\n",
    "a"
   ]
  },
  {
   "cell_type": "code",
   "execution_count": null,
   "metadata": {},
   "outputs": [],
   "source": [
    "%%timeit\n",
    "\n",
    "a = [1]\n",
    "\n",
    "a.append(2)\n",
    "a.append(3)\n",
    "a"
   ]
  },
  {
   "cell_type": "code",
   "execution_count": null,
   "metadata": {},
   "outputs": [],
   "source": [
    "x[arc].name.split('_')[1]: x[arc].name.split('_')[2] for arc in sol_vars"
   ]
  },
  {
   "cell_type": "code",
   "execution_count": null,
   "metadata": {},
   "outputs": [],
   "source": [
    "[arc.name for arc in sol_vars]"
   ]
  }
 ],
 "metadata": {
  "kernelspec": {
   "display_name": "Python 3.10.4 ('py_cplex')",
   "language": "python",
   "name": "python3"
  },
  "language_info": {
   "codemirror_mode": {
    "name": "ipython",
    "version": 3
   },
   "file_extension": ".py",
   "mimetype": "text/x-python",
   "name": "python",
   "nbconvert_exporter": "python",
   "pygments_lexer": "ipython3",
   "version": "3.10.4"
  },
  "orig_nbformat": 4,
  "vscode": {
   "interpreter": {
    "hash": "4ad4e50790df1adc290194063a38ddab9b784578b3268fc04e81ab0a0ab2d055"
   }
  }
 },
 "nbformat": 4,
 "nbformat_minor": 2
}
