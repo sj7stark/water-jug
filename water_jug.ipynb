{
 "cells": [
  {
   "cell_type": "markdown",
   "metadata": {},
   "source": [
    "# Water Jug Problem"
   ]
  },
  {
   "cell_type": "markdown",
   "metadata": {},
   "source": [
    "This notebook shows how to set up and solve a Water Jug Problem as an Integer Linear Program (ILP)"
   ]
  },
  {
   "cell_type": "markdown",
   "metadata": {},
   "source": [
    "## What is the Water Jug Problem?"
   ]
  },
  {
   "cell_type": "markdown",
   "metadata": {},
   "source": [
    "Suppose you have the following:\n",
    "* An empty 5 gallon jug (Jug A)\n",
    "* An empty 3 gallon jug (Jug B)\n",
    "* An \"infinite\" water source like a spring\n",
    "\n",
    "Pour water into the jugs such that you end up with:\n",
    "* The 5 gallon jug containing 4 gallons\n",
    "* The 3 gallon jug containing 3 gallons\n",
    "\n",
    "You're allowed to make the following moves:\n",
    "* Dump out all of the water Jug A\n",
    "* Dump out all of the water Jug B\n",
    "* Completely fill up Jug A\n",
    "* Completely fill up Jug B\n",
    "* Pout water from one jug into the other\n",
    "\n",
    "Which moves (pours/dumps/fills) should you make such that the total number of moves is minimized?"
   ]
  },
  {
   "cell_type": "markdown",
   "metadata": {},
   "source": [
    "# Imports"
   ]
  },
  {
   "cell_type": "code",
   "execution_count": 1,
   "metadata": {},
   "outputs": [],
   "source": [
    "from docplex.mp.model import Model"
   ]
  },
  {
   "cell_type": "markdown",
   "metadata": {},
   "source": [
    "# Sets"
   ]
  },
  {
   "cell_type": "markdown",
   "metadata": {},
   "source": [
    "* $T$: The set of time periods\n",
    "* $J$: The set of water jugs\n",
    "* $D$: List of possible moves"
   ]
  },
  {
   "cell_type": "code",
   "execution_count": 2,
   "metadata": {},
   "outputs": [],
   "source": [
    "T = list(range(11))\n",
    "J = ['A','B']\n",
    "D = list(range(6))\n",
    "\n",
    "moves = {\n",
    "    0: 'Dump A',\n",
    "    1: 'Dump B',\n",
    "    2: 'Fill A',\n",
    "    3: 'Fill B',\n",
    "    4: 'Pour A to B',\n",
    "    5: 'Pour B to A'\n",
    "}"
   ]
  },
  {
   "cell_type": "markdown",
   "metadata": {},
   "source": [
    "# Parameters"
   ]
  },
  {
   "cell_type": "markdown",
   "metadata": {},
   "source": [
    "* $c_{j}$: Capcity for jug j\n",
    "* $f_{j}$: Final volume for jug j\n"
   ]
  },
  {
   "cell_type": "code",
   "execution_count": 3,
   "metadata": {},
   "outputs": [],
   "source": [
    "c = {\n",
    "    'A':5,\n",
    "    'B':3\n",
    "}\n",
    "\n",
    "f = {\n",
    "    'A':4,\n",
    "    'B':3\n",
    "}"
   ]
  },
  {
   "cell_type": "markdown",
   "metadata": {},
   "source": [
    "# Create Optimization Model"
   ]
  },
  {
   "cell_type": "code",
   "execution_count": 4,
   "metadata": {},
   "outputs": [],
   "source": [
    "# create a model object\n",
    "water_jug = Model(name='Water-Jug-Problem')"
   ]
  },
  {
   "cell_type": "markdown",
   "metadata": {},
   "source": [
    "# Decision Variables"
   ]
  },
  {
   "cell_type": "markdown",
   "metadata": {},
   "source": [
    "* $z_{dt}$: A binary variable that equals 1 if we make decision $d$ at time $t$ and 0 otherwise"
   ]
  },
  {
   "cell_type": "code",
   "execution_count": 5,
   "metadata": {},
   "outputs": [],
   "source": [
    "z = water_jug.binary_var_dict(keys = [(d, t) for d in D for t in T[1:]], name=\"z\")"
   ]
  },
  {
   "cell_type": "markdown",
   "metadata": {},
   "source": [
    "* $v_{jt}$: The volume of water in jug $j$ at time $t$"
   ]
  },
  {
   "cell_type": "code",
   "execution_count": 6,
   "metadata": {},
   "outputs": [],
   "source": [
    "def get_ub(var_name):\n",
    "    return c[var_name[0]]\n",
    "\n",
    "v = water_jug.integer_var_dict(keys = [(j, t) for j in J for t in T], name=\"v\",lb=0, ub=get_ub)"
   ]
  },
  {
   "cell_type": "markdown",
   "metadata": {},
   "source": [
    "# Objective Function"
   ]
  },
  {
   "cell_type": "markdown",
   "metadata": {},
   "source": [
    "Minimize the total number of moves (pours/fills/dumps) made\n",
    "\n",
    "minimize $\\sum_{d \\in D, t \\in T>0}z_{dt}$"
   ]
  },
  {
   "cell_type": "code",
   "execution_count": 7,
   "metadata": {},
   "outputs": [],
   "source": [
    "num_moves = water_jug.sum(z[(d,t)] for d in D for t in T[1:])\n",
    "water_jug.minimize(num_moves)"
   ]
  },
  {
   "cell_type": "markdown",
   "metadata": {},
   "source": [
    "# Constraints"
   ]
  },
  {
   "cell_type": "markdown",
   "metadata": {},
   "source": [
    "Both jugs are empty at the start\n",
    "\n",
    "$v_{j0} = 0, \\quad \\forall j \\in J$"
   ]
  },
  {
   "cell_type": "code",
   "execution_count": 8,
   "metadata": {},
   "outputs": [
    {
     "data": {
      "text/plain": [
       "[docplex.mp.LinearConstraint[](v_A_0,EQ,0),\n",
       " docplex.mp.LinearConstraint[](v_B_0,EQ,0)]"
      ]
     },
     "execution_count": 8,
     "metadata": {},
     "output_type": "execute_result"
    }
   ],
   "source": [
    "water_jug.add_constraints(v[j,0] == 0 for j in J)"
   ]
  },
  {
   "cell_type": "markdown",
   "metadata": {},
   "source": [
    "At most, a single move can be made during each time period\n",
    "\n",
    "$\\sum_{d \\in D}z_{dt} <= 1, \\quad \\forall t \\in T>0$"
   ]
  },
  {
   "cell_type": "code",
   "execution_count": 9,
   "metadata": {},
   "outputs": [
    {
     "data": {
      "text/plain": [
       "[docplex.mp.LinearConstraint[](z_0_1+z_1_1+z_2_1+z_3_1+z_4_1+z_5_1,LE,1),\n",
       " docplex.mp.LinearConstraint[](z_0_2+z_1_2+z_2_2+z_3_2+z_4_2+z_5_2,LE,1),\n",
       " docplex.mp.LinearConstraint[](z_0_3+z_1_3+z_2_3+z_3_3+z_4_3+z_5_3,LE,1),\n",
       " docplex.mp.LinearConstraint[](z_0_4+z_1_4+z_2_4+z_3_4+z_4_4+z_5_4,LE,1),\n",
       " docplex.mp.LinearConstraint[](z_0_5+z_1_5+z_2_5+z_3_5+z_4_5+z_5_5,LE,1),\n",
       " docplex.mp.LinearConstraint[](z_0_6+z_1_6+z_2_6+z_3_6+z_4_6+z_5_6,LE,1),\n",
       " docplex.mp.LinearConstraint[](z_0_7+z_1_7+z_2_7+z_3_7+z_4_7+z_5_7,LE,1),\n",
       " docplex.mp.LinearConstraint[](z_0_8+z_1_8+z_2_8+z_3_8+z_4_8+z_5_8,LE,1),\n",
       " docplex.mp.LinearConstraint[](z_0_9+z_1_9+z_2_9+z_3_9+z_4_9+z_5_9,LE,1),\n",
       " docplex.mp.LinearConstraint[](z_0_10+z_1_10+z_2_10+z_3_10+z_4_10+z_5_10,LE,1)]"
      ]
     },
     "execution_count": 9,
     "metadata": {},
     "output_type": "execute_result"
    }
   ],
   "source": [
    "water_jug.add_constraints(water_jug.sum(z[(d,t)] for d in D) <= 1 for t in T[1:])"
   ]
  },
  {
   "cell_type": "markdown",
   "metadata": {},
   "source": [
    "Note: These are indicator constraints. By using `add_indicator`, you can let CPLEX linearize these constraints.\n",
    "\n",
    "* If you dump water out of a jug, then the corresponding jug will become empty\n",
    "\n",
    "    * if $z_{0t} = 1$, then $v_{At} = 0, \\quad \\forall t \\in T > 0$\n",
    "    * if $z_{1t} = 1$, then $v_{Bt} = 0, \\quad \\forall t \\in T > 0$\n",
    "\n",
    "* If you fill a jug with water, then it will become full\n",
    "\n",
    "    * if $z_{2t} = 1$, then $v_{At} = c_{A}, \\quad \\forall t \\in T > 0$\n",
    "    * if $z_{3t} = 1$, then $v_{Bt} = c_{B}, \\quad \\forall t \\in T > 0$"
   ]
  },
  {
   "cell_type": "code",
   "execution_count": 10,
   "metadata": {},
   "outputs": [],
   "source": [
    "# add dumping/filling constraints\n",
    "for t in T[1:]:\n",
    "\n",
    "    # dump A\n",
    "    water_jug.add_indicator(z[(0,t)], v[('A',t)]==0)\n",
    "\n",
    "    # dump B\n",
    "    water_jug.add_indicator(z[(1,t)], v[('B',t)]==0)\n",
    "\n",
    "    # Fill A\n",
    "    water_jug.add_indicator(z[(2,t)], v[('A',t)]==c['A'])\n",
    "\n",
    "    # Fill B\n",
    "    water_jug.add_indicator(z[(3,t)], v[('B',t)]==c['B'])"
   ]
  },
  {
   "cell_type": "markdown",
   "metadata": {},
   "source": [
    "Note: By using `add_if_then`, CPLEX will linearize the constraint for you\n",
    "\n",
    "If you don't dump, fill, or pour into/out of jug A, then jug A has the same volume as before\n",
    "\n",
    "if $z_{0t} + z_{2t} + z_{4t} + z_{5t} = 0$, then $v_{At} = v_{At-1}, \\quad \\forall t \\in T>0$"
   ]
  },
  {
   "cell_type": "code",
   "execution_count": 11,
   "metadata": {},
   "outputs": [],
   "source": [
    "for t in T[1:]:\n",
    "    water_jug.add_if_then(z[(0,t)] + z[(2,t)] + z[(4,t)] + z[(5,t)] == 0, v[('A',t)] == v[('A',t-1)])\n"
   ]
  },
  {
   "cell_type": "markdown",
   "metadata": {},
   "source": [
    "If you don't dump, fill, or pour into/out of jug B, then jug B has the same volume as before\n",
    "\n",
    "if $z_{1t} + z_{3t} + z_{4t} + z_{5t} = 0$, then $v_{Bt} = v_{Bt-1}, \\quad \\forall t \\in T>0$"
   ]
  },
  {
   "cell_type": "code",
   "execution_count": 12,
   "metadata": {},
   "outputs": [],
   "source": [
    "for t in T[1:]:\n",
    "    water_jug.add_if_then(z[(1,t)] + z[(3,t)] + z[(4,t)] + z[(5,t)] == 0, v[('B',t)] == v[('B',t-1)])"
   ]
  },
  {
   "cell_type": "markdown",
   "metadata": {},
   "source": [
    "Note: CPLEX will linearize min and max constraints\n",
    "\n",
    "if you pour A into B:\n",
    "\n",
    "* if $z_{4t} = 1$, then $v_{At} = max(0, v_{At-1}+v_{Bt-1}-3), \\quad \\forall t \\in T>0$ \n",
    "* if $z_{4t} = 1$, then $v_{Bt} = min(3, v_{At-1}+v_{Bt-1}), \\quad \\forall t \\in T>0$ "
   ]
  },
  {
   "cell_type": "code",
   "execution_count": 13,
   "metadata": {},
   "outputs": [],
   "source": [
    "for t in T[1:]:\n",
    "    \n",
    "    # for A\n",
    "    water_jug.add_indicator(z[(4,t)], v[('A',t)]==water_jug.max(0, v[('A',t-1)]-3+v[('B',t-1)]  ))\n",
    "\n",
    "    # for B\n",
    "    water_jug.add_indicator(z[(4,t)], v[('B',t)]==water_jug.min(3, v[('A',t-1)]+ v[('B',t-1)]  ))"
   ]
  },
  {
   "cell_type": "markdown",
   "metadata": {},
   "source": [
    "if you pour B into A:\n",
    "\n",
    "* if $z_{5t} = 1$, then $v_{At} = min(5, v_{At-1}+v_{Bt-1}), \\quad \\forall t \\in T>0$ \n",
    "* if $z_{5t} = 1$, then $v_{Bt} = max(0, v_{At-1}+v_{Bt-1}-5), \\quad \\forall t \\in T>0$ "
   ]
  },
  {
   "cell_type": "code",
   "execution_count": 14,
   "metadata": {},
   "outputs": [],
   "source": [
    "for t in T[1:]:\n",
    "    \n",
    "    # for A\n",
    "    water_jug.add_indicator(z[(5,t)], v[('A',t)]==water_jug.min(5, v[('A',t-1)]+ v[('B',t-1)]  ))\n",
    "\n",
    "    # for B\n",
    "    water_jug.add_indicator(z[(5,t)], v[('B',t)]==water_jug.max(0, v[('A',t-1)]+ v[('B',t-1)] -5 ))"
   ]
  },
  {
   "cell_type": "markdown",
   "metadata": {},
   "source": [
    "You can't make a decision in the current time period if you didn't make one in the previous time period\n",
    "\n",
    "$ \\sum_{d \\in D}z_{dt+1} \\le \\sum_{d \\in D}z_{dt}, \\quad \\forall t \\in 0 < T < |T|$  "
   ]
  },
  {
   "cell_type": "code",
   "execution_count": 15,
   "metadata": {},
   "outputs": [
    {
     "data": {
      "text/plain": [
       "[docplex.mp.LinearConstraint[](z_0_2+z_1_2+z_2_2+z_3_2+z_4_2+z_5_2,LE,z_0_1+z_1_1+z_2_1+z_3_1+z_4_1+z_5_1),\n",
       " docplex.mp.LinearConstraint[](z_0_3+z_1_3+z_2_3+z_3_3+z_4_3+z_5_3,LE,z_0_2+z_1_2+z_2_2+z_3_2+z_4_2+z_5_2),\n",
       " docplex.mp.LinearConstraint[](z_0_4+z_1_4+z_2_4+z_3_4+z_4_4+z_5_4,LE,z_0_3+z_1_3+z_2_3+z_3_3+z_4_3+z_5_3),\n",
       " docplex.mp.LinearConstraint[](z_0_5+z_1_5+z_2_5+z_3_5+z_4_5+z_5_5,LE,z_0_4+z_1_4+z_2_4+z_3_4+z_4_4+z_5_4),\n",
       " docplex.mp.LinearConstraint[](z_0_6+z_1_6+z_2_6+z_3_6+z_4_6+z_5_6,LE,z_0_5+z_1_5+z_2_5+z_3_5+z_4_5+z_5_5),\n",
       " docplex.mp.LinearConstraint[](z_0_7+z_1_7+z_2_7+z_3_7+z_4_7+z_5_7,LE,z_0_6+z_1_6+z_2_6+z_3_6+z_4_6+z_5_6),\n",
       " docplex.mp.LinearConstraint[](z_0_8+z_1_8+z_2_8+z_3_8+z_4_8+z_5_8,LE,z_0_7+z_1_7+z_2_7+z_3_7+z_4_7+z_5_7),\n",
       " docplex.mp.LinearConstraint[](z_0_9+z_1_9+z_2_9+z_3_9+z_4_9+z_5_9,LE,z_0_8+z_1_8+z_2_8+z_3_8+z_4_8+z_5_8),\n",
       " docplex.mp.LinearConstraint[](z_0_10+z_1_10+z_2_10+z_3_10+z_4_10+z_5_10,LE,z_0_9+z_1_9+z_2_9+z_3_9+z_4_9+z_5_9)]"
      ]
     },
     "execution_count": 15,
     "metadata": {},
     "output_type": "execute_result"
    }
   ],
   "source": [
    "water_jug.add_constraints(water_jug.sum(z[(d,t+1)] for d in D) <= water_jug.sum(z[(d,t)] for d in D) for t in T[1:-1])"
   ]
  },
  {
   "cell_type": "markdown",
   "metadata": {},
   "source": [
    "By the final time period, each jug needs to have its required volume of water\n",
    "\n",
    "$v_{j|T|} = f_{j}, \\quad \\forall j \\in J$"
   ]
  },
  {
   "cell_type": "code",
   "execution_count": 16,
   "metadata": {},
   "outputs": [
    {
     "data": {
      "text/plain": [
       "docplex.mp.LinearConstraint[](v_B_10,EQ,3)"
      ]
     },
     "execution_count": 16,
     "metadata": {},
     "output_type": "execute_result"
    }
   ],
   "source": [
    "water_jug.add_constraint(v['A',max(T)] == f['A'])\n",
    "water_jug.add_constraint(v['B',max(T)] == f['B'])"
   ]
  },
  {
   "cell_type": "markdown",
   "metadata": {},
   "source": [
    "# Solve the Problem"
   ]
  },
  {
   "cell_type": "code",
   "execution_count": 17,
   "metadata": {},
   "outputs": [
    {
     "data": {
      "text/plain": [
       "docplex.mp.solution.SolveSolution(obj=6,values={z_1_3:1,z_2_1:1,z_2_5:1,.."
      ]
     },
     "execution_count": 17,
     "metadata": {},
     "output_type": "execute_result"
    }
   ],
   "source": [
    "water_jug.solve()"
   ]
  },
  {
   "cell_type": "markdown",
   "metadata": {},
   "source": [
    "# Output the solution"
   ]
  },
  {
   "cell_type": "markdown",
   "metadata": {},
   "source": [
    "## Objective Function: Number of moves made"
   ]
  },
  {
   "cell_type": "code",
   "execution_count": 18,
   "metadata": {},
   "outputs": [
    {
     "data": {
      "text/plain": [
       "6.0"
      ]
     },
     "execution_count": 18,
     "metadata": {},
     "output_type": "execute_result"
    }
   ],
   "source": [
    "water_jug.solution.objective_value"
   ]
  },
  {
   "cell_type": "markdown",
   "metadata": {},
   "source": [
    "## Moves that were made"
   ]
  },
  {
   "cell_type": "code",
   "execution_count": 19,
   "metadata": {},
   "outputs": [],
   "source": [
    "z_values = water_jug.solution.get_value_df(z)\n",
    "z_values = z_values.loc[z_values.value == 1].sort_values(by=['key_2'])\n",
    "z_values[\"Move\"] = z_values[\"key_1\"].apply(lambda x: moves[x])\n",
    "z_values.to_csv(\"sol-moves.csv\",index=False)"
   ]
  },
  {
   "cell_type": "code",
   "execution_count": 20,
   "metadata": {},
   "outputs": [
    {
     "data": {
      "text/html": [
       "<div>\n",
       "<style scoped>\n",
       "    .dataframe tbody tr th:only-of-type {\n",
       "        vertical-align: middle;\n",
       "    }\n",
       "\n",
       "    .dataframe tbody tr th {\n",
       "        vertical-align: top;\n",
       "    }\n",
       "\n",
       "    .dataframe thead th {\n",
       "        text-align: right;\n",
       "    }\n",
       "</style>\n",
       "<table border=\"1\" class=\"dataframe\">\n",
       "  <thead>\n",
       "    <tr style=\"text-align: right;\">\n",
       "      <th></th>\n",
       "      <th>key_1</th>\n",
       "      <th>key_2</th>\n",
       "      <th>value</th>\n",
       "      <th>Move</th>\n",
       "    </tr>\n",
       "  </thead>\n",
       "  <tbody>\n",
       "    <tr>\n",
       "      <th>20</th>\n",
       "      <td>2</td>\n",
       "      <td>1</td>\n",
       "      <td>1.0</td>\n",
       "      <td>Fill A</td>\n",
       "    </tr>\n",
       "    <tr>\n",
       "      <th>41</th>\n",
       "      <td>4</td>\n",
       "      <td>2</td>\n",
       "      <td>1.0</td>\n",
       "      <td>Pour A to B</td>\n",
       "    </tr>\n",
       "    <tr>\n",
       "      <th>12</th>\n",
       "      <td>1</td>\n",
       "      <td>3</td>\n",
       "      <td>1.0</td>\n",
       "      <td>Dump B</td>\n",
       "    </tr>\n",
       "    <tr>\n",
       "      <th>43</th>\n",
       "      <td>4</td>\n",
       "      <td>4</td>\n",
       "      <td>1.0</td>\n",
       "      <td>Pour A to B</td>\n",
       "    </tr>\n",
       "    <tr>\n",
       "      <th>24</th>\n",
       "      <td>2</td>\n",
       "      <td>5</td>\n",
       "      <td>1.0</td>\n",
       "      <td>Fill A</td>\n",
       "    </tr>\n",
       "    <tr>\n",
       "      <th>45</th>\n",
       "      <td>4</td>\n",
       "      <td>6</td>\n",
       "      <td>1.0</td>\n",
       "      <td>Pour A to B</td>\n",
       "    </tr>\n",
       "  </tbody>\n",
       "</table>\n",
       "</div>"
      ],
      "text/plain": [
       "    key_1  key_2  value         Move\n",
       "20      2      1    1.0       Fill A\n",
       "41      4      2    1.0  Pour A to B\n",
       "12      1      3    1.0       Dump B\n",
       "43      4      4    1.0  Pour A to B\n",
       "24      2      5    1.0       Fill A\n",
       "45      4      6    1.0  Pour A to B"
      ]
     },
     "execution_count": 20,
     "metadata": {},
     "output_type": "execute_result"
    }
   ],
   "source": [
    "z_values"
   ]
  },
  {
   "cell_type": "markdown",
   "metadata": {},
   "source": [
    "## Volume at each time period"
   ]
  },
  {
   "cell_type": "code",
   "execution_count": 21,
   "metadata": {},
   "outputs": [],
   "source": [
    "v_values = water_jug.solution.get_value_df(v)\n",
    "v_values.to_csv(\"sol-volume.csv\",index=False)"
   ]
  },
  {
   "cell_type": "code",
   "execution_count": 22,
   "metadata": {},
   "outputs": [
    {
     "data": {
      "text/html": [
       "<div>\n",
       "<style scoped>\n",
       "    .dataframe tbody tr th:only-of-type {\n",
       "        vertical-align: middle;\n",
       "    }\n",
       "\n",
       "    .dataframe tbody tr th {\n",
       "        vertical-align: top;\n",
       "    }\n",
       "\n",
       "    .dataframe thead th {\n",
       "        text-align: right;\n",
       "    }\n",
       "</style>\n",
       "<table border=\"1\" class=\"dataframe\">\n",
       "  <thead>\n",
       "    <tr style=\"text-align: right;\">\n",
       "      <th></th>\n",
       "      <th>key_1</th>\n",
       "      <th>key_2</th>\n",
       "      <th>value</th>\n",
       "    </tr>\n",
       "  </thead>\n",
       "  <tbody>\n",
       "    <tr>\n",
       "      <th>0</th>\n",
       "      <td>A</td>\n",
       "      <td>0</td>\n",
       "      <td>0.0</td>\n",
       "    </tr>\n",
       "    <tr>\n",
       "      <th>1</th>\n",
       "      <td>A</td>\n",
       "      <td>1</td>\n",
       "      <td>5.0</td>\n",
       "    </tr>\n",
       "    <tr>\n",
       "      <th>2</th>\n",
       "      <td>A</td>\n",
       "      <td>2</td>\n",
       "      <td>2.0</td>\n",
       "    </tr>\n",
       "    <tr>\n",
       "      <th>3</th>\n",
       "      <td>A</td>\n",
       "      <td>3</td>\n",
       "      <td>2.0</td>\n",
       "    </tr>\n",
       "    <tr>\n",
       "      <th>4</th>\n",
       "      <td>A</td>\n",
       "      <td>4</td>\n",
       "      <td>0.0</td>\n",
       "    </tr>\n",
       "    <tr>\n",
       "      <th>5</th>\n",
       "      <td>A</td>\n",
       "      <td>5</td>\n",
       "      <td>5.0</td>\n",
       "    </tr>\n",
       "    <tr>\n",
       "      <th>6</th>\n",
       "      <td>A</td>\n",
       "      <td>6</td>\n",
       "      <td>4.0</td>\n",
       "    </tr>\n",
       "    <tr>\n",
       "      <th>7</th>\n",
       "      <td>A</td>\n",
       "      <td>7</td>\n",
       "      <td>4.0</td>\n",
       "    </tr>\n",
       "    <tr>\n",
       "      <th>8</th>\n",
       "      <td>A</td>\n",
       "      <td>8</td>\n",
       "      <td>4.0</td>\n",
       "    </tr>\n",
       "    <tr>\n",
       "      <th>9</th>\n",
       "      <td>A</td>\n",
       "      <td>9</td>\n",
       "      <td>4.0</td>\n",
       "    </tr>\n",
       "    <tr>\n",
       "      <th>10</th>\n",
       "      <td>A</td>\n",
       "      <td>10</td>\n",
       "      <td>4.0</td>\n",
       "    </tr>\n",
       "    <tr>\n",
       "      <th>11</th>\n",
       "      <td>B</td>\n",
       "      <td>0</td>\n",
       "      <td>0.0</td>\n",
       "    </tr>\n",
       "    <tr>\n",
       "      <th>12</th>\n",
       "      <td>B</td>\n",
       "      <td>1</td>\n",
       "      <td>0.0</td>\n",
       "    </tr>\n",
       "    <tr>\n",
       "      <th>13</th>\n",
       "      <td>B</td>\n",
       "      <td>2</td>\n",
       "      <td>3.0</td>\n",
       "    </tr>\n",
       "    <tr>\n",
       "      <th>14</th>\n",
       "      <td>B</td>\n",
       "      <td>3</td>\n",
       "      <td>0.0</td>\n",
       "    </tr>\n",
       "    <tr>\n",
       "      <th>15</th>\n",
       "      <td>B</td>\n",
       "      <td>4</td>\n",
       "      <td>2.0</td>\n",
       "    </tr>\n",
       "    <tr>\n",
       "      <th>16</th>\n",
       "      <td>B</td>\n",
       "      <td>5</td>\n",
       "      <td>2.0</td>\n",
       "    </tr>\n",
       "    <tr>\n",
       "      <th>17</th>\n",
       "      <td>B</td>\n",
       "      <td>6</td>\n",
       "      <td>3.0</td>\n",
       "    </tr>\n",
       "    <tr>\n",
       "      <th>18</th>\n",
       "      <td>B</td>\n",
       "      <td>7</td>\n",
       "      <td>3.0</td>\n",
       "    </tr>\n",
       "    <tr>\n",
       "      <th>19</th>\n",
       "      <td>B</td>\n",
       "      <td>8</td>\n",
       "      <td>3.0</td>\n",
       "    </tr>\n",
       "    <tr>\n",
       "      <th>20</th>\n",
       "      <td>B</td>\n",
       "      <td>9</td>\n",
       "      <td>3.0</td>\n",
       "    </tr>\n",
       "    <tr>\n",
       "      <th>21</th>\n",
       "      <td>B</td>\n",
       "      <td>10</td>\n",
       "      <td>3.0</td>\n",
       "    </tr>\n",
       "  </tbody>\n",
       "</table>\n",
       "</div>"
      ],
      "text/plain": [
       "   key_1  key_2  value\n",
       "0      A      0    0.0\n",
       "1      A      1    5.0\n",
       "2      A      2    2.0\n",
       "3      A      3    2.0\n",
       "4      A      4    0.0\n",
       "5      A      5    5.0\n",
       "6      A      6    4.0\n",
       "7      A      7    4.0\n",
       "8      A      8    4.0\n",
       "9      A      9    4.0\n",
       "10     A     10    4.0\n",
       "11     B      0    0.0\n",
       "12     B      1    0.0\n",
       "13     B      2    3.0\n",
       "14     B      3    0.0\n",
       "15     B      4    2.0\n",
       "16     B      5    2.0\n",
       "17     B      6    3.0\n",
       "18     B      7    3.0\n",
       "19     B      8    3.0\n",
       "20     B      9    3.0\n",
       "21     B     10    3.0"
      ]
     },
     "execution_count": 22,
     "metadata": {},
     "output_type": "execute_result"
    }
   ],
   "source": [
    "v_values"
   ]
  }
 ],
 "metadata": {
  "kernelspec": {
   "display_name": "Python 3.10.4 ('py_cplex')",
   "language": "python",
   "name": "python3"
  },
  "language_info": {
   "codemirror_mode": {
    "name": "ipython",
    "version": 3
   },
   "file_extension": ".py",
   "mimetype": "text/x-python",
   "name": "python",
   "nbconvert_exporter": "python",
   "pygments_lexer": "ipython3",
   "version": "3.10.4"
  },
  "orig_nbformat": 4,
  "vscode": {
   "interpreter": {
    "hash": "4ad4e50790df1adc290194063a38ddab9b784578b3268fc04e81ab0a0ab2d055"
   }
  }
 },
 "nbformat": 4,
 "nbformat_minor": 2
}
